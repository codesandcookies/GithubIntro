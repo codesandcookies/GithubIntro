{
 "cells": [
  {
   "cell_type": "markdown",
   "metadata": {},
   "source": [
    "# Codes and Cookies: A (simple) begginers guide to Git and GitHub\n",
    "\n",
    "by Daniela Barrientos"
   ]
  },
  {
   "cell_type": "markdown",
   "metadata": {},
   "source": [
    "![git](http://phdcomics.com/comics/archive/phd101212s.gif)\n",
    "\n",
    "We want to avoid __THIS__!"
   ]
  },
  {
   "cell_type": "markdown",
   "metadata": {},
   "source": [
    "## What is Git??\n",
    "\n",
    "Git is a version control system. What this means is that you can keep track of the changes made to all files in a project. \n",
    "\n",
    "Instead of storing each change as a new version of a file, Git keeps track of the changes made to them (how many lines were deleted and how many lines were added). \n",
    "\n",
    "In this way you don't need to save a new file each time you make a new version but want to keep the original, you can just save the change in the original and if ever needed go back to an older version in your history."
   ]
  },
  {
   "cell_type": "markdown",
   "metadata": {},
   "source": [
    "## Then... what is GitHub??\n",
    "\n",
    "GitHub is a hosting service for git repositories. GitHub has servers where you can store remote versions of your git repositories. By using GitHub you can keep a backup of your software and also share it with other people (one of the reasons why we created a Github Organization). "
   ]
  },
  {
   "cell_type": "markdown",
   "metadata": {},
   "source": [
    "## Installing git"
   ]
  },
  {
   "cell_type": "code",
   "execution_count": null,
   "metadata": {},
   "outputs": [],
   "source": [
    "# If you DON'T have git installed in your pc you can excecute the following command\n",
    "# Anything after the ! is run by the shell in iPython (and jupyter notebooks)\n",
    "# You can check more iPython magics by running magic(), like %%sh and %%cd that we will use... \n",
    "# (this is not the purpose of the tutorial)\n",
    "\n",
    "!sudo apt-get install git"
   ]
  },
  {
   "cell_type": "markdown",
   "metadata": {},
   "source": [
    "## Creating a GitHub account \n",
    "\n",
    "Go to [GitHub's webpage](https://github.com/)"
   ]
  },
  {
   "cell_type": "markdown",
   "metadata": {},
   "source": [
    "## Sharing with youself: Managing your own repos "
   ]
  },
  {
   "cell_type": "markdown",
   "metadata": {},
   "source": [
    "### Creating a repository: Forks and Clones\n",
    "\n",
    "There are more than a few ways of creating a repository. Let's review some of them."
   ]
  },
  {
   "cell_type": "markdown",
   "metadata": {},
   "source": [
    "#### Create a repository from the comand line\n",
    "\n",
    "We can create a repository in our pc and then \"upload\" it to github. To do this we use the command `git init` inside a folder, this will transform it into a repo. \n",
    "\n",
    "To \"upload\" it to github we then use the command:\n",
    "\n",
    "`git remote add origin https://github.com/{your_github_username}/{your_repo_name}.git`\n",
    "\n",
    "`git push -u origin master`"
   ]
  },
  {
   "cell_type": "markdown",
   "metadata": {},
   "source": [
    "In the next cell we will create a new directory that will become our repository, and then we will enter this directory."
   ]
  },
  {
   "cell_type": "code",
   "execution_count": null,
   "metadata": {},
   "outputs": [],
   "source": [
    "%%sh\n",
    "\n",
    "mkdir new_repo"
   ]
  },
  {
   "cell_type": "code",
   "execution_count": null,
   "metadata": {},
   "outputs": [],
   "source": [
    "%cd  new_repo"
   ]
  },
  {
   "cell_type": "markdown",
   "metadata": {},
   "source": [
    "The next step is to make it into a repository, first we will make a `README` file, these files usually contain information about the repository. "
   ]
  },
  {
   "cell_type": "code",
   "execution_count": null,
   "metadata": {},
   "outputs": [],
   "source": [
    "%%sh\n",
    "\n",
    "echo \"# the new repo\" >> README.md\n",
    "git init\n",
    "git add README.md\n",
    "git commit -m \"first commit\""
   ]
  },
  {
   "cell_type": "markdown",
   "metadata": {},
   "source": [
    "Once the repository is created, we can upload it to GitHub."
   ]
  },
  {
   "cell_type": "code",
   "execution_count": null,
   "metadata": {},
   "outputs": [],
   "source": [
    "%%sh\n",
    "\n",
    "git remote add origin https://github.com/<your-username>/<your-repo>.git\n",
    "git push -u origin master"
   ]
  },
  {
   "cell_type": "markdown",
   "metadata": {},
   "source": [
    "#### Forking a repository\n",
    "\n",
    "We can also make our own copies of someone else's repositories. This is called _fork_, and you can do it by pushing the button `fork` at the top of a GitHub repository. This creates a new repository in your account corresponding to a copy of the original repository at the moment of the fork.\n",
    "\n",
    "You can go to [the repository this notebook is in](https://github.com/codesandcookies/GithubIntro) and fork it to your own.\n",
    "\n",
    "The button looks like this:\n",
    "\n",
    "![fork button](fork.png)"
   ]
  },
  {
   "cell_type": "markdown",
   "metadata": {},
   "source": [
    "After forking a repository, to get the remote version in your pc the next step is to `clone` your repo. You do this using the command `git clone`, but you need the repository's URL.\n",
    "\n",
    "At the top of each repository there is a button `Clone or download` that gives you this info. It should look like this:\n",
    "\n",
    "![fork button](clone.png)"
   ]
  },
  {
   "cell_type": "code",
   "execution_count": null,
   "metadata": {},
   "outputs": [],
   "source": [
    "%%sh\n",
    "\n",
    "git clone <repository-url>"
   ]
  },
  {
   "cell_type": "markdown",
   "metadata": {},
   "source": [
    "### Adding Changes: Staging, Commiting and Pushing\n",
    "\n",
    "Whenever we make changes to the files in our cloned repositories and we want to update them, there are a few steps to follow. \n",
    "\n",
    "We can use the command `git status` to check the status of our repository."
   ]
  },
  {
   "cell_type": "code",
   "execution_count": null,
   "metadata": {},
   "outputs": [],
   "source": [
    "%%sh\n",
    "\n",
    "git status"
   ]
  },
  {
   "cell_type": "markdown",
   "metadata": {},
   "source": [
    "As you can see, the repository is up to date. Let's add some files."
   ]
  },
  {
   "cell_type": "code",
   "execution_count": null,
   "metadata": {},
   "outputs": [],
   "source": [
    "%%sh\n",
    "\n",
    "echo \"this is a new pointless file\" >> test.txt\n",
    "git status"
   ]
  },
  {
   "cell_type": "markdown",
   "metadata": {},
   "source": [
    "Now, there is a change in the repo, and git gives us instructions on how to `commit` these changes.\n",
    "\n",
    "First, we need to add these changes to the `staging environment`. There all the changes that you want to include in your `commit` will be gathered. Yo can add (or delete) as many files, and make as many changes as you want before commititng. "
   ]
  },
  {
   "cell_type": "code",
   "execution_count": null,
   "metadata": {},
   "outputs": [],
   "source": [
    "%%sh\n",
    "\n",
    "git add test.txt\n",
    "git status"
   ]
  },
  {
   "cell_type": "markdown",
   "metadata": {},
   "source": [
    "Git tells you when you have changes ready for commiting.\n",
    "\n",
    "Let's do a commit (it is always good practice to write a message to identify your commits, commits have an identifier made out of a looong string of characters so searching by those is not a good idea)."
   ]
  },
  {
   "cell_type": "code",
   "execution_count": null,
   "metadata": {},
   "outputs": [],
   "source": [
    "%%sh\n",
    "\n",
    "git commit -m 'my first commit'"
   ]
  },
  {
   "cell_type": "markdown",
   "metadata": {},
   "source": [
    "After commiting, the version of your repository in your pc and the one stored at GitHub will be different. You can update these changes by `pushing` to GitHub."
   ]
  },
  {
   "cell_type": "code",
   "execution_count": null,
   "metadata": {},
   "outputs": [],
   "source": [
    "%%sh\n",
    "\n",
    "git push"
   ]
  },
  {
   "cell_type": "markdown",
   "metadata": {},
   "source": [
    "### Pulling\n",
    "\n",
    "Whenever changes were made to the GitHub repository that you don't have in one of your clones, you can `pull` these changes using the command `git pull`."
   ]
  },
  {
   "cell_type": "code",
   "execution_count": null,
   "metadata": {},
   "outputs": [],
   "source": [
    "%%sh\n",
    "\n",
    "git pull"
   ]
  },
  {
   "cell_type": "markdown",
   "metadata": {},
   "source": [
    "## Branches and Merging\n",
    "\n",
    "When you are working on a big project with multiple collaborators, or want to try something in your code without loosing the current state of your repository, an elegant way of doing things is by making `branches`.\n",
    "\n",
    "A branch is a duplicate of your last commit, where you can work independently.\n",
    "\n",
    "To gain a little intuiton on branches here's [a pretty cool tool!!](https://learngitbranching.js.org/)"
   ]
  },
  {
   "cell_type": "markdown",
   "metadata": {},
   "source": [
    "The commands `git branch <branch-name>` and `git checkout <branch-name>` will create and move you to a certain branch, respectively. "
   ]
  },
  {
   "cell_type": "code",
   "execution_count": null,
   "metadata": {},
   "outputs": [],
   "source": [
    "%%sh \n",
    "\n",
    "git checkout -b new-branch"
   ]
  },
  {
   "cell_type": "markdown",
   "metadata": {},
   "source": [
    "Now a new branch was created! We can check our branches and where we are (the asterisk points at our location). As you can see, the command above both creates and takes us to the new branch."
   ]
  },
  {
   "cell_type": "code",
   "execution_count": null,
   "metadata": {},
   "outputs": [],
   "source": [
    "%%sh\n",
    "\n",
    "git branch"
   ]
  },
  {
   "cell_type": "markdown",
   "metadata": {},
   "source": [
    "After making changes and commiting them, if you are satisfied with your work in this branch you can merge it with the master. We use the command `git merge <the-branch-you-want-to-merge>`."
   ]
  },
  {
   "cell_type": "code",
   "execution_count": null,
   "metadata": {},
   "outputs": [],
   "source": [
    "%%sh\n",
    "\n",
    "git checkout master\n",
    "git merge new-branch"
   ]
  },
  {
   "cell_type": "markdown",
   "metadata": {},
   "source": [
    "## Undoing your mistakes\n",
    "\n",
    "[Here](https://github.blog/2015-06-08-how-to-undo-almost-anything-with-git/) are some useful tips for when thing go wrong!"
   ]
  },
  {
   "cell_type": "markdown",
   "metadata": {},
   "source": [
    "### Going back to a specific commit\n",
    "\n",
    "One of the cool things about github is that you have a history of all your commits, and you can go back to any of them using their ID."
   ]
  },
  {
   "cell_type": "code",
   "execution_count": null,
   "metadata": {},
   "outputs": [],
   "source": [
    "%%sh \n",
    "\n",
    "git log"
   ]
  },
  {
   "cell_type": "markdown",
   "metadata": {},
   "source": [
    "`git log` shows you the history of all commits with the IDs and the comments you leave. To go back to one of them you use the command `git reset <commit-id>` "
   ]
  }
 ],
 "metadata": {
  "kernelspec": {
   "display_name": "Python 3",
   "language": "python",
   "name": "python3"
  },
  "language_info": {
   "codemirror_mode": {
    "name": "ipython",
    "version": 3
   },
   "file_extension": ".py",
   "mimetype": "text/x-python",
   "name": "python",
   "nbconvert_exporter": "python",
   "pygments_lexer": "ipython3",
   "version": "3.6.4"
  }
 },
 "nbformat": 4,
 "nbformat_minor": 2
}
